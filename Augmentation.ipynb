{
 "cells": [
  {
   "cell_type": "code",
   "execution_count": 2,
   "id": "1da19c8a",
   "metadata": {},
   "outputs": [],
   "source": [
    "import Augmentor"
   ]
  },
  {
   "cell_type": "code",
   "execution_count": 1,
   "id": "5b2e63f3",
   "metadata": {},
   "outputs": [
    {
     "name": "stdout",
     "output_type": "stream",
     "text": [
      "Initialised with 8 image(s) found.\n",
      "Output directory set to D:\\MiniProject1\\Speed35\\output."
     ]
    },
    {
     "name": "stderr",
     "output_type": "stream",
     "text": [
      "Processing <PIL.JpegImagePlugin.JpegImageFile image mode=RGB size=4000x3000 at 0x23647071030>: 100%|█| 45/45 [00:12<00:\n"
     ]
    }
   ],
   "source": [
    "import Augmentor\n",
    "p = Augmentor.Pipeline(r\"D:\\MiniProject1\\Speed35\")\n",
    "p.rotate(probability=0.01, max_left_rotation=1.2, max_right_rotation=1)\n",
    "p.zoom(probability=0.5, min_factor=1.1, max_factor=1.5)\n",
    "p.sample(45)"
   ]
  },
  {
   "cell_type": "code",
   "execution_count": 2,
   "id": "13c07e83",
   "metadata": {},
   "outputs": [
    {
     "name": "stdout",
     "output_type": "stream",
     "text": [
      "Initialised with 7 image(s) found.\n",
      "Output directory set to D:\\MiniProject1\\Speed40\\output."
     ]
    },
    {
     "name": "stderr",
     "output_type": "stream",
     "text": [
      "Processing <PIL.JpegImagePlugin.JpegImageFile image mode=RGB size=2592x4608 at 0x23671606170>: 100%|█| 45/45 [00:03<00:\n"
     ]
    }
   ],
   "source": [
    "p = Augmentor.Pipeline(r\"D:\\MiniProject1\\Speed40\")\n",
    "p.rotate(probability=0.01, max_left_rotation=1.2, max_right_rotation=1)\n",
    "p.zoom(probability=0.5, min_factor=1.1, max_factor=1.5)\n",
    "p.sample(45)"
   ]
  },
  {
   "cell_type": "code",
   "execution_count": 3,
   "id": "fa1ab7c3",
   "metadata": {},
   "outputs": [
    {
     "name": "stdout",
     "output_type": "stream",
     "text": [
      "Initialised with 15 image(s) found.\n",
      "Output directory set to D:\\MiniProject1\\SpeedBreaker\\output."
     ]
    },
    {
     "name": "stderr",
     "output_type": "stream",
     "text": [
      "Processing <PIL.JpegImagePlugin.JpegImageFile image mode=RGB size=2592x4608 at 0x15A514663E0>: 100%|█| 45/45 [00:08<00:\n"
     ]
    }
   ],
   "source": [
    "p = Augmentor.Pipeline(r\"D:\\MiniProject1\\SpeedBreaker\")\n",
    "p.rotate(probability=0.01, max_left_rotation=1.2, max_right_rotation=1)\n",
    "p.zoom(probability=0.5, min_factor=1.1, max_factor=1.5)\n",
    "p.sample(45)"
   ]
  },
  {
   "cell_type": "code",
   "execution_count": null,
   "id": "e03b4165",
   "metadata": {},
   "outputs": [],
   "source": []
  }
 ],
 "metadata": {
  "kernelspec": {
   "display_name": "Python 3 (ipykernel)",
   "language": "python",
   "name": "python3"
  },
  "language_info": {
   "codemirror_mode": {
    "name": "ipython",
    "version": 3
   },
   "file_extension": ".py",
   "mimetype": "text/x-python",
   "name": "python",
   "nbconvert_exporter": "python",
   "pygments_lexer": "ipython3",
   "version": "3.10.9"
  }
 },
 "nbformat": 4,
 "nbformat_minor": 5
}
